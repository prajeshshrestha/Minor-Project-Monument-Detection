{
 "cells": [
  {
   "cell_type": "code",
   "execution_count": 1,
   "id": "fc81b46e",
   "metadata": {},
   "outputs": [
    {
     "name": "stdout",
     "output_type": "stream",
     "text": [
      "Collecting piexif\n",
      "  Downloading piexif-1.1.3-py2.py3-none-any.whl (20 kB)\n",
      "Installing collected packages: piexif\n",
      "Successfully installed piexif-1.1.3\n"
     ]
    }
   ],
   "source": [
    "!pip install piexif"
   ]
  },
  {
   "cell_type": "code",
   "execution_count": 4,
   "id": "4effe6f1",
   "metadata": {},
   "outputs": [],
   "source": [
    "from PIL import Image\n",
    "import piexif\n",
    "import os"
   ]
  },
  {
   "cell_type": "code",
   "execution_count": 12,
   "id": "ff544ae8",
   "metadata": {},
   "outputs": [
    {
     "name": "stdout",
     "output_type": "stream",
     "text": [
      "1 (11).jpg\n",
      "0\n",
      "1674314311125.jpg\n",
      "6\n",
      "1674314311306.jpg\n",
      "6\n",
      "1674314311361.jpg\n",
      "6\n",
      "1674314311866.jpg\n",
      "1\n",
      "IMG20221219142727.jpg\n",
      "1\n",
      "IMG20230121132503.jpg\n",
      "1\n",
      "IMG20230122143048.jpg\n",
      "1\n",
      "IMG_20221219_144309.jpg\n",
      "0\n",
      "IMG_20230121_145447.jpg\n",
      "0\n",
      "IMG_20230122_152534.jpg\n",
      "0\n",
      "IMG_20230122_155155.jpg\n",
      "0\n",
      "IMG_20230122_160810.jpg\n",
      "0\n",
      "IMG_20230122_160814_Burst16.jpg\n",
      "6\n"
     ]
    }
   ],
   "source": [
    "for file in os.listdir('./'):\n",
    "    if file.endswith('.jpg'):\n",
    "        print(file)\n",
    "        img = Image.open(file)\n",
    "        if \"exif\" in img.info:\n",
    "            exif_dict = piexif.load(img.info['exif'])\n",
    "        if piexif.ImageIFD.Orientation in exif_dict['0th']:\n",
    "            print(exif_dict['0th'][piexif.ImageIFD.Orientation])\n",
    "            exif_dict['Exif'][41729] = b'1'\n",
    "            exif_bytes = piexif.dump(exif_dict)\n",
    "#         img.save('new_'+file, exif = exif_bytes)"
   ]
  },
  {
   "cell_type": "code",
   "execution_count": null,
   "id": "7b62a1b0",
   "metadata": {},
   "outputs": [],
   "source": []
  }
 ],
 "metadata": {
  "kernelspec": {
   "display_name": "Python 3 (ipykernel)",
   "language": "python",
   "name": "python3"
  },
  "language_info": {
   "codemirror_mode": {
    "name": "ipython",
    "version": 3
   },
   "file_extension": ".py",
   "mimetype": "text/x-python",
   "name": "python",
   "nbconvert_exporter": "python",
   "pygments_lexer": "ipython3",
   "version": "3.9.12"
  }
 },
 "nbformat": 4,
 "nbformat_minor": 5
}
