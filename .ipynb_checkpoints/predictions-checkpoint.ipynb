{
 "cells": [
  {
   "cell_type": "code",
   "execution_count": 3,
   "id": "3278b754",
   "metadata": {},
   "outputs": [],
   "source": [
    "import tensorflow as tf\n",
    "from utils import bbox_utils, data_utils, drawing_utils, io_utils, train_utils, eval_utils\n",
    "from models.decoder import get_decoder_model\n",
    "from helper import label_generator\n",
    "from models.ssd_mobilenet_v2 import get_model, init_model"
   ]
  },
  {
   "cell_type": "code",
   "execution_count": 4,
   "id": "938dd5f3",
   "metadata": {},
   "outputs": [
    {
     "ename": "TypeError",
     "evalue": "get_dataset() got an unexpected keyword argument 'dir_'",
     "output_type": "error",
     "traceback": [
      "\u001b[1;31m---------------------------------------------------------------------------\u001b[0m",
      "\u001b[1;31mTypeError\u001b[0m                                 Traceback (most recent call last)",
      "Input \u001b[1;32mIn [4]\u001b[0m, in \u001b[0;36m<cell line: 7>\u001b[1;34m()\u001b[0m\n\u001b[0;32m      4\u001b[0m io_utils\u001b[38;5;241m.\u001b[39mis_valid_backbone(backbone)\n\u001b[0;32m      6\u001b[0m hyper_params \u001b[38;5;241m=\u001b[39m train_utils\u001b[38;5;241m.\u001b[39mget_hyper_params(backbone)\n\u001b[1;32m----> 7\u001b[0m test_data, size_info \u001b[38;5;241m=\u001b[39m \u001b[43mdata_utils\u001b[49m\u001b[38;5;241;43m.\u001b[39;49m\u001b[43mget_dataset\u001b[49m\u001b[43m(\u001b[49m\u001b[38;5;124;43m\"\u001b[39;49m\u001b[38;5;124;43mtest\u001b[39;49m\u001b[38;5;124;43m\"\u001b[39;49m\u001b[43m,\u001b[49m\u001b[43m \u001b[49m\u001b[43mdir_\u001b[49m\u001b[43m \u001b[49m\u001b[38;5;241;43m=\u001b[39;49m\u001b[43m \u001b[49m\u001b[38;5;124;43m\"\u001b[39;49m\u001b[38;5;124;43mF:\u001b[39;49m\u001b[38;5;124;43m\\\u001b[39;49m\u001b[38;5;124;43mMinor Data Collection\u001b[39;49m\u001b[38;5;124;43m\\\u001b[39;49m\u001b[38;5;124;43mFinal Image Data\u001b[39;49m\u001b[38;5;124;43m\\\u001b[39;49m\u001b[38;5;124;43mMonument Original\u001b[39;49m\u001b[38;5;124;43m\\\u001b[39;49m\u001b[38;5;124;43mTFRecord\u001b[39;49m\u001b[38;5;130;43;01m\\\\\u001b[39;49;00m\u001b[38;5;124;43m\"\u001b[39;49m\u001b[43m)\u001b[49m\n\u001b[0;32m      8\u001b[0m total_items \u001b[38;5;241m=\u001b[39m size_info\n",
      "\u001b[1;31mTypeError\u001b[0m: get_dataset() got an unexpected keyword argument 'dir_'"
     ]
    }
   ],
   "source": [
    "batch_size = 8\n",
    "evaluate = False\n",
    "backbone = 'mobilenet_v2'\n",
    "io_utils.is_valid_backbone(backbone)\n",
    "\n",
    "hyper_params = train_utils.get_hyper_params(backbone)\n",
    "test_data, size_info = data_utils.get_dataset(\"test\", dir_ = \"F:\\Minor Data Collection\\Final Image Data\\Monument Original\\TFRecord\\\\\")\n",
    "total_items = size_info"
   ]
  },
  {
   "cell_type": "code",
   "execution_count": null,
   "id": "6ff0c425",
   "metadata": {},
   "outputs": [],
   "source": []
  }
 ],
 "metadata": {
  "kernelspec": {
   "display_name": "Python 3 (ipykernel)",
   "language": "python",
   "name": "python3"
  },
  "language_info": {
   "codemirror_mode": {
    "name": "ipython",
    "version": 3
   },
   "file_extension": ".py",
   "mimetype": "text/x-python",
   "name": "python",
   "nbconvert_exporter": "python",
   "pygments_lexer": "ipython3",
   "version": "3.9.12"
  }
 },
 "nbformat": 4,
 "nbformat_minor": 5
}
