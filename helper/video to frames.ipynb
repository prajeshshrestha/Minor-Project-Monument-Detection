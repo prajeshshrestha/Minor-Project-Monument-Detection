{
 "cells": [
  {
   "cell_type": "code",
   "execution_count": 1,
   "id": "158c3976",
   "metadata": {},
   "outputs": [],
   "source": [
    "from datetime import timedelta\n",
    "import cv2\n",
    "import numpy as np\n",
    "import os\n",
    "import sys\n",
    "from tqdm import tqdm"
   ]
  },
  {
   "cell_type": "code",
   "execution_count": 2,
   "id": "367c9701",
   "metadata": {},
   "outputs": [],
   "source": [
    "SAVING_FRAMES_PER_SECOND = 4\n",
    "FRAME_COUNT = 0"
   ]
  },
  {
   "cell_type": "code",
   "execution_count": 3,
   "id": "6aa963ec",
   "metadata": {},
   "outputs": [],
   "source": [
    "def get_saving_frames_durations(cap, saving_fps):\n",
    "    \"\"\"A function that returns the list of durations where to save the frames\"\"\"\n",
    "    s = []\n",
    "    clip_duration = cap.get(cv2.CAP_PROP_FRAME_COUNT) / cap.get(cv2.CAP_PROP_FPS)\n",
    "    for i in np.arange(0, clip_duration, 1 / saving_fps):\n",
    "        s.append(i)\n",
    "    return s\n"
   ]
  },
  {
   "cell_type": "code",
   "execution_count": 11,
   "id": "cedf572e",
   "metadata": {},
   "outputs": [],
   "source": [
    "def convert_to_frames(video_file, output_dir, req_action):\n",
    "    global FRAME_COUNT\n",
    "    cap = cv2.VideoCapture(video_file)\n",
    "    fps = cap.get(cv2.CAP_PROP_FPS)\n",
    "    saving_frames_per_second = min(fps, SAVING_FRAMES_PER_SECOND)\n",
    "    saving_frames_durations = get_saving_frames_durations(cap, saving_frames_per_second)\n",
    "    count = 0\n",
    "    while True:\n",
    "        is_read, frame = cap.read()\n",
    "        if not is_read:\n",
    "            break\n",
    "        frame_duration = count / fps\n",
    "        try:\n",
    "            closest_duration = saving_frames_durations[0]\n",
    "        except IndexError:\n",
    "            break\n",
    "        if frame_duration >= closest_duration:\n",
    "#             if req_action != 'nothing':\n",
    "#                 frame = cv2.rotate(frame, req_action)\n",
    "            cv2.imwrite(os.path.join(output_dir, f\"{FRAME_COUNT}.jpg\"), frame) \n",
    "            \n",
    "            FRAME_COUNT += 1\n",
    "            try:\n",
    "                saving_frames_durations.pop(0)\n",
    "            except IndexError:\n",
    "                pass\n",
    "        count += 1"
   ]
  },
  {
   "cell_type": "code",
   "execution_count": 17,
   "id": "24ef6127",
   "metadata": {},
   "outputs": [],
   "source": [
    "def main_func(dir_loc):\n",
    "    all_video_files = [dir_loc + \"\\\\\" + video_name for video_name in os.listdir(dir_loc)]\n",
    "    \n",
    "    video_conversion_dict = {\n",
    "        '1': 'nothing', \n",
    "        '2': cv2.ROTATE_180,\n",
    "        '3': cv2.ROTATE_90_COUNTERCLOCKWISE,\n",
    "        '4': 'nothing',\n",
    "        '6': 'nothing',\n",
    "        '7': cv2.ROTATE_90_COUNTERCLOCKWISE,\n",
    "        '8': 'nothing',\n",
    "        '9': cv2.ROTATE_180,\n",
    "        '11': 'nothing',\n",
    "        '12': cv2.ROTATE_180,\n",
    "        '13': 'nothing'\n",
    "    }\n",
    "\n",
    "    output_dir = dir_loc + \"\\OUTPUT FRAMES\"\n",
    "    if not os.path.isdir(output_dir):\n",
    "        os.mkdir(output_dir) \n",
    "    for video_name in tqdm(all_video_files):\n",
    "        file_name = video_name.split('.')[0].split('\\\\')[4]\n",
    "        required_action = video_conversion_dict[file_name]\n",
    "        convert_to_frames(video_name, output_dir, required_action)"
   ]
  },
  {
   "cell_type": "code",
   "execution_count": 16,
   "id": "f89d12cd",
   "metadata": {},
   "outputs": [
    {
     "name": "stdout",
     "output_type": "stream",
     "text": [
      "F:\\Minor Data Collection\\Video Data Collection\\Kathmandu Durbar Square\\OUTPUT FRAMES\n"
     ]
    },
    {
     "name": "stderr",
     "output_type": "stream",
     "text": [
      "100%|██████████████████████████████████████████████████████████████████████████████████████████| 11/11 [00:00<?, ?it/s]"
     ]
    },
    {
     "name": "stdout",
     "output_type": "stream",
     "text": [
      "F:\\Minor Data Collection\\Video Data Collection\\Kathmandu Durbar Square\\1\n",
      "F:\\Minor Data Collection\\Video Data Collection\\Kathmandu Durbar Square\\11\n",
      "F:\\Minor Data Collection\\Video Data Collection\\Kathmandu Durbar Square\\12\n",
      "F:\\Minor Data Collection\\Video Data Collection\\Kathmandu Durbar Square\\13\n",
      "F:\\Minor Data Collection\\Video Data Collection\\Kathmandu Durbar Square\\2\n",
      "F:\\Minor Data Collection\\Video Data Collection\\Kathmandu Durbar Square\\3\n",
      "F:\\Minor Data Collection\\Video Data Collection\\Kathmandu Durbar Square\\4\n",
      "F:\\Minor Data Collection\\Video Data Collection\\Kathmandu Durbar Square\\6\n",
      "F:\\Minor Data Collection\\Video Data Collection\\Kathmandu Durbar Square\\7\n",
      "F:\\Minor Data Collection\\Video Data Collection\\Kathmandu Durbar Square\\8\n",
      "F:\\Minor Data Collection\\Video Data Collection\\Kathmandu Durbar Square\\9\n"
     ]
    },
    {
     "name": "stderr",
     "output_type": "stream",
     "text": [
      "\n"
     ]
    }
   ],
   "source": [
    "main_func(\"F:\\Minor Data Collection\\Video Data Collection\\Kathmandu Durbar Square\")"
   ]
  },
  {
   "cell_type": "code",
   "execution_count": null,
   "id": "4f3a2cf7",
   "metadata": {},
   "outputs": [],
   "source": []
  }
 ],
 "metadata": {
  "kernelspec": {
   "display_name": "Python 3",
   "language": "python",
   "name": "python3"
  },
  "language_info": {
   "codemirror_mode": {
    "name": "ipython",
    "version": 3
   },
   "file_extension": ".py",
   "mimetype": "text/x-python",
   "name": "python",
   "nbconvert_exporter": "python",
   "pygments_lexer": "ipython3",
   "version": "3.10.4 (tags/v3.10.4:9d38120, Mar 23 2022, 23:13:41) [MSC v.1929 64 bit (AMD64)]"
  },
  "vscode": {
   "interpreter": {
    "hash": "db7936f1c54eb8e542c27316bd257405a081f4ffea519a3ef0ab4d021852bca9"
   }
  }
 },
 "nbformat": 4,
 "nbformat_minor": 5
}
