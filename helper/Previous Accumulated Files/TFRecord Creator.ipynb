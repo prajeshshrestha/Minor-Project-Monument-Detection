{
 "cells": [
  {
   "cell_type": "code",
   "execution_count": 2,
   "id": "64731846",
   "metadata": {},
   "outputs": [
    {
     "name": "stderr",
     "output_type": "stream",
     "text": [
      "2023-01-20 21:57:42.009314: W tensorflow/stream_executor/platform/default/dso_loader.cc:64] Could not load dynamic library 'cudart64_110.dll'; dlerror: cudart64_110.dll not found\n",
      "2023-01-20 21:57:42.009360: I tensorflow/stream_executor/cuda/cudart_stub.cc:29] Ignore above cudart dlerror if you do not have a GPU set up on your machine.\n",
      "Traceback (most recent call last):\n",
      "  File \"C:\\Users\\parzi\\OneDrive - Tribhuvan University\\Desktop\\Minor Project\\Coding Files\\Dataset\\create_tfrecords_from_xml.py\", line 10, in <module>\n",
      "    flags = tf.app.flags\n",
      "AttributeError: module 'tensorflow' has no attribute 'app'\n"
     ]
    }
   ],
   "source": [
    "!python create_tfrecords_from_xml.py --image_dir=Dataset/train/JPEGImages --annotations_dir=Dataset/train/Annotations --label_map_path=Monuments_label_map.pbtxt"
   ]
  },
  {
   "cell_type": "code",
   "execution_count": null,
   "id": "260e3875",
   "metadata": {},
   "outputs": [],
   "source": [
    "from absl import run"
   ]
  }
 ],
 "metadata": {
  "kernelspec": {
   "display_name": "Python 3 (ipykernel)",
   "language": "python",
   "name": "python3"
  },
  "language_info": {
   "codemirror_mode": {
    "name": "ipython",
    "version": 3
   },
   "file_extension": ".py",
   "mimetype": "text/x-python",
   "name": "python",
   "nbconvert_exporter": "python",
   "pygments_lexer": "ipython3",
   "version": "3.9.12"
  }
 },
 "nbformat": 4,
 "nbformat_minor": 5
}
