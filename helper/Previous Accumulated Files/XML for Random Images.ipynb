{
 "cells": [
  {
   "cell_type": "code",
   "execution_count": 5,
   "id": "640813ac",
   "metadata": {},
   "outputs": [],
   "source": [
    "import xml.etree.ElementTree as ET\n",
    "import os"
   ]
  },
  {
   "cell_type": "code",
   "execution_count": 18,
   "id": "299afd37",
   "metadata": {},
   "outputs": [],
   "source": [
    "def XML_for_bg(path):\n",
    "    folder_name = path.split('\\\\')[-1]\n",
    "    for file in os.listdir(path):\n",
    "        xml_file_name = file.split('.')[0] + '.xml'\n",
    "        output_xml_name = path + '\\\\' + xml_file_name\n",
    "        annotation_tag = ET.Element('annotation')\n",
    "        annotation_tag.set('verified', 'yes')\n",
    "        folder_tag = ET.SubElement(annotation_tag, 'folder')\n",
    "        folder_tag.text = folder_name\n",
    "        filename_tag = ET.SubElement(annotation_tag, 'filename')\n",
    "        filename_tag.text = file\n",
    "        path_tag = ET.SubElement(annotation_tag, 'path')\n",
    "        path_tag.text = path + '\\\\' + file\n",
    "        size_tag = ET.SubElement(annotation_tag, 'size')\n",
    "        width_tag = ET.SubElement(size_tag, 'width')\n",
    "        width_tag.text = '300'\n",
    "        height_tag = ET.SubElement(size_tag, 'height')\n",
    "        height_tag.text = '300'\n",
    "        depth_tag = ET.SubElement(size_tag, 'depth')\n",
    "        depth_tag.text = '3'\n",
    "        segmented_tag = ET.SubElement(annotation_tag, 'segmented')\n",
    "        segmented_tag.text = '0'\n",
    "\n",
    "        byte_xml = ET.tostring(annotation_tag)\n",
    "\n",
    "        with open(output_xml_name, 'wb') as f:\n",
    "            f.write(byte_xml)"
   ]
  },
  {
   "cell_type": "code",
   "execution_count": 19,
   "id": "b1ec5df3",
   "metadata": {},
   "outputs": [],
   "source": [
    "path = r'F:\\Minor Data Collection\\Background Image_resized_bilinear\\background images'\n",
    "XML_for_bg(path)"
   ]
  }
 ],
 "metadata": {
  "kernelspec": {
   "display_name": "Python 3 (ipykernel)",
   "language": "python",
   "name": "python3"
  },
  "language_info": {
   "codemirror_mode": {
    "name": "ipython",
    "version": 3
   },
   "file_extension": ".py",
   "mimetype": "text/x-python",
   "name": "python",
   "nbconvert_exporter": "python",
   "pygments_lexer": "ipython3",
   "version": "3.9.12"
  }
 },
 "nbformat": 4,
 "nbformat_minor": 5
}
