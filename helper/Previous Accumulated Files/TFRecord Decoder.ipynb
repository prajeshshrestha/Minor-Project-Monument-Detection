{
 "cells": [
  {
   "cell_type": "markdown",
   "id": "2d74ff9b",
   "metadata": {},
   "source": [
    "## TFRecord Decoding Function"
   ]
  },
  {
   "cell_type": "code",
   "execution_count": 1,
   "id": "b9deacac",
   "metadata": {},
   "outputs": [],
   "source": [
    "import os\n",
    "import numpy as np\n",
    "import xml.etree.ElementTree as ET\n",
    "from collections import OrderedDict\n",
    "import matplotlib.pyplot as plt\n",
    "import pandas as pd\n",
    "import glob\n",
    "import io\n",
    "from collections import namedtuple\n",
    "from PIL import Image\n",
    "import tensorflow as tf\n",
    "import tensorflow_datasets as tfds"
   ]
  },
  {
   "cell_type": "code",
   "execution_count": 2,
   "id": "c25a872d",
   "metadata": {},
   "outputs": [],
   "source": [
    "image_feature_description = {\n",
    "    'image/height': tf.io.FixedLenFeature(shape = (), dtype = np.int64),\n",
    "    'image/width' : tf.io.FixedLenFeature(shape = (), dtype = np.int64),\n",
    "    'image/filename' : tf.io.FixedLenFeature(shape = (), dtype = tf.string),\n",
    "    'image/encoded' : tf.io.FixedLenFeature(shape = (), dtype = tf.string),\n",
    "    'image/object/bbox/xmin': tf.io.FixedLenSequenceFeature(shape = (), dtype = np.float32, allow_missing = True),\n",
    "    'image/object/bbox/xmax': tf.io.FixedLenSequenceFeature(shape = (), dtype = np.float32, allow_missing = True),\n",
    "    'image/object/bbox/ymin': tf.io.FixedLenSequenceFeature(shape = (), dtype = np.float32, allow_missing = True),\n",
    "    'image/object/bbox/ymax': tf.io.FixedLenSequenceFeature(shape = (), dtype = np.float32, allow_missing = True),\n",
    "    'image/object/class/text':tf.io.FixedLenSequenceFeature(shape = (), dtype = tf.string, allow_missing = True),\n",
    "    'image/object/class/label':tf.io.FixedLenSequenceFeature(shape = (), dtype = np.int64, allow_missing = True)\n",
    "}"
   ]
  },
  {
   "cell_type": "code",
   "execution_count": 3,
   "id": "64c6eb57",
   "metadata": {},
   "outputs": [],
   "source": [
    "def _parse_data(unparsed_example):\n",
    "    return tf.io.parse_single_example(unparsed_example, image_feature_description)"
   ]
  },
  {
   "cell_type": "code",
   "execution_count": 4,
   "id": "c394c811",
   "metadata": {},
   "outputs": [],
   "source": [
    "def _bytestring(parsed_example):\n",
    "    byte_string = parsed_example['image/encoded']\n",
    "    image = tf.io.decode_image(byte_string)\n",
    "    image = tf.reshape(image, [parsed_example['image/height'], parsed_example['image/width'], 3])\n",
    "    parsed_example['image/encoded'] = image\n",
    "    bbox = tf.stack([parsed_example['image/object/bbox/ymin'], parsed_example['image/object/bbox/xmin'], parsed_example['image/object/bbox/ymax'], parsed_example['image/object/bbox/xmax']], axis = -1)\n",
    "    output_dict = {'image': image,\n",
    "                  'objects': {\n",
    "                      'bbox': bbox,\n",
    "                      'label':parsed_example['image/object/class/label']\n",
    "                  }}\n",
    "\n",
    "    return output_dict"
   ]
  },
  {
   "cell_type": "code",
   "execution_count": 5,
   "id": "ff291b3c",
   "metadata": {},
   "outputs": [],
   "source": [
    "def tfrecord_decoder(tfrecord_path):\n",
    "    dataset = tf.data.TFRecordDataset(tfrecord_path)\n",
    "    dataset = dataset.map(_parse_data)\n",
    "    dataset = dataset.map(_bytestring)\n",
    "    return dataset"
   ]
  },
  {
   "cell_type": "code",
   "execution_count": 15,
   "id": "3e8ff33b",
   "metadata": {},
   "outputs": [],
   "source": [
    "dataset = tfrecord_decoder(r\"F:\\Minor Data Collection\\Final Image Data\\Monument Original\\TFRecord\\train.tfrecord\")"
   ]
  },
  {
   "cell_type": "code",
   "execution_count": 44,
   "id": "4bac951d",
   "metadata": {},
   "outputs": [
    {
     "name": "stdout",
     "output_type": "stream",
     "text": [
      "5694\n",
      "Time difference is 1046.9869999999999 ms\n"
     ]
    }
   ],
   "source": [
    "from datetime import datetime\n",
    "\n",
    "start = datetime.now()\n",
    "print(dataset.reduce(0, lambda x, _ : x + 1).numpy())\n",
    "end = datetime.now()\n",
    "delta = end - start\n",
    "print(f\"Time difference is {delta.total_seconds() * 1000} ms\")\n"
   ]
  },
  {
   "cell_type": "markdown",
   "id": "3dfde9bf",
   "metadata": {},
   "source": [
    "### Useless Undefined Code Section"
   ]
  },
  {
   "cell_type": "code",
   "execution_count": 1,
   "id": "87dde5db",
   "metadata": {},
   "outputs": [],
   "source": [
    "# feature={\n",
    "#         'image/height': int64_feature(height),\n",
    "#         'image/width': int64_feature(width),\n",
    "#         'image/filename': bytes_feature(filename),\n",
    "#         'image/source_id': bytes_feature(filename),\n",
    "#         'image/encoded': bytes_feature(encoded_jpg),\n",
    "#         'image/format': bytes_feature(image_format),\n",
    "#         'image/object/bbox/xmin': float_list_feature(xmins),\n",
    "#         'image/object/bbox/xmax': float_list_feature(xmaxs),\n",
    "#         'image/object/bbox/ymin': float_list_feature(ymins),\n",
    "#         'image/object/bbox/ymax': float_list_feature(ymaxs),\n",
    "#         'image/object/class/text': bytes_list_feature(classes_text),\n",
    "#         'image/object/class/label': int64_list_feature(classes),\n",
    "#     }"
   ]
  },
  {
   "cell_type": "code",
   "execution_count": 2,
   "id": "fa816a7f",
   "metadata": {},
   "outputs": [],
   "source": [
    "# features = tfds.features.FeaturesDict({\n",
    "#     'image/height': tfds.features.Scalar(dtype = np.int64),\n",
    "#     'image/width' : tfds.features.Scalar(dtype = np.int64),\n",
    "#     'image/filename': tfds.features.Scalar(dtype = tf.string),\n",
    "#     'image/source_id': tfds.features.Scalar(dtype = tf.string),\n",
    "#     'image/encoded' : tfds.features.Image(shape = (300, 300, 3)),\n",
    "#     'image/format' : tfds.features.Scalar(dtype = tf.string),\n",
    "#     'image/object/bbox': tfds.features.Sequence({\n",
    "#         'xmin': tfds.features.Tensor(shape=(), dtype = np.float32),\n",
    "#         'xmax': tfds.features.Tensor(shape=(), dtype = np.float32),\n",
    "#         'ymin': tfds.features.Tensor(shape=(), dtype = np.float32),\n",
    "#         'ymax': tfds.features.Tensor(shape=(), dtype = np.float32),\n",
    "#     }),\n",
    "#     'image/object/class':tfds.features.Sequence({\n",
    "#         'text': tfds.features.Tensor(shape = (), dtype = tf.string),\n",
    "#         'label':tfds.features.Tensor(shape = (), dtype = np.int64)\n",
    "        \n",
    "#     })\n",
    "    \n",
    "# })"
   ]
  },
  {
   "cell_type": "code",
   "execution_count": 3,
   "id": "f6f1ee65",
   "metadata": {},
   "outputs": [],
   "source": [
    "# split_infos = [\n",
    "#     tfds.core.SplitInfo(\n",
    "#         name = 'monument-train',\n",
    "#         shard_lengths = [506],\n",
    "#         num_bytes = 0),\n",
    "#     tfds.core.SplitInfo(\n",
    "#         name = 'monument-test',\n",
    "#         shard_lengths = [173],\n",
    "#         num_bytes = 0\n",
    "#     )\n",
    "# ]"
   ]
  },
  {
   "cell_type": "code",
   "execution_count": 4,
   "id": "beb400a9",
   "metadata": {},
   "outputs": [],
   "source": [
    "# split_infos = tfds.folder_dataset.compute_split_info(out_dir = './Monument Dataset',\n",
    "# filename_template = tfds.core.ShardedFileTemplate(data_dir = './Monument Dataset', template = '{SPLIT}.{FILEFORMAT}-{SHARD_X_OF_Y}')\n",
    "# )"
   ]
  },
  {
   "cell_type": "code",
   "execution_count": 5,
   "id": "1c05e08b",
   "metadata": {},
   "outputs": [],
   "source": [
    "# tfds.folder_dataset.write_metadata(\n",
    "#     data_dir = './Monument Dataset',\n",
    "#     features = features,\n",
    "#     split_infos = split_infos,\n",
    "#     filename_template = '{SPLIT}.{FILEFORMAT}-{SHARD_X_OF_Y}'\n",
    "# )"
   ]
  },
  {
   "cell_type": "code",
   "execution_count": 6,
   "id": "b3da1a39",
   "metadata": {},
   "outputs": [],
   "source": [
    "# builder = tfds.builder_from_directory('./Monument Dataset')\n",
    "# builder.info.splits['monument-train'].num_examples"
   ]
  },
  {
   "cell_type": "code",
   "execution_count": 7,
   "id": "fdad97a2",
   "metadata": {},
   "outputs": [],
   "source": [
    "# ds = builder.as_dataset(split = 'monument-train')"
   ]
  },
  {
   "cell_type": "code",
   "execution_count": null,
   "id": "215e7d8b",
   "metadata": {},
   "outputs": [],
   "source": [
    "# feature={\n",
    "#         'image/height': int64_feature(height),\n",
    "#         'image/width': int64_feature(width),\n",
    "#         'image/filename': bytes_feature(filename),\n",
    "#         'image/source_id': bytes_feature(filename),\n",
    "#         'image/encoded': bytes_feature(encoded_jpg),\n",
    "#         'image/format': bytes_feature(image_format),\n",
    "#         'image/object/bbox/xmin': float_list_feature(xmins),\n",
    "#         'image/object/bbox/xmax': float_list_feature(xmaxs),\n",
    "#         'image/object/bbox/ymin': float_list_feature(ymins),\n",
    "#         'image/object/bbox/ymax': float_list_feature(ymaxs),\n",
    "#         'image/object/class/text': bytes_list_feature(classes_text),\n",
    "#         'image/object/class/label': int64_list_feature(classes),\n",
    "#     }\n",
    "\n",
    "#         'height': int64_feature(height),\n",
    "#         'width': int64_feature(width),\n",
    "#         'filename': bytes_feature(filename),\n",
    "#         'image': bytes_feature(encoded_jpg),\n",
    "#         'object/bbox/xmin': float_list_feature(xmins),\n",
    "#         'object/bbox/xmax': float_list_feature(xmaxs),\n",
    "#         'object/bbox/ymin': float_list_feature(ymins),\n",
    "#         'object/bbox/ymax': float_list_feature(ymaxs),\n",
    "#         'object/class/text': bytes_list_feature(classes_text),\n",
    "#         'object/class/label': int64_list_feature(classes),"
   ]
  },
  {
   "cell_type": "code",
   "execution_count": null,
   "id": "c1847f0d",
   "metadata": {},
   "outputs": [],
   "source": []
  }
 ],
 "metadata": {
  "kernelspec": {
   "display_name": "Python 3 (ipykernel)",
   "language": "python",
   "name": "python3"
  },
  "language_info": {
   "codemirror_mode": {
    "name": "ipython",
    "version": 3
   },
   "file_extension": ".py",
   "mimetype": "text/x-python",
   "name": "python",
   "nbconvert_exporter": "python",
   "pygments_lexer": "ipython3",
   "version": "3.9.12"
  },
  "vscode": {
   "interpreter": {
    "hash": "db7936f1c54eb8e542c27316bd257405a081f4ffea519a3ef0ab4d021852bca9"
   }
  }
 },
 "nbformat": 4,
 "nbformat_minor": 5
}
