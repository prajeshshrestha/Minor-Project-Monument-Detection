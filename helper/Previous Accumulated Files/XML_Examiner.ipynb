{
 "cells": [
  {
   "cell_type": "code",
   "execution_count": 5,
   "id": "e76c5a9f",
   "metadata": {},
   "outputs": [],
   "source": [
    "import glob\n",
    "import xml.etree.ElementTree as ET\n",
    "import pandas as pd\n",
    "import re\n",
    "import os"
   ]
  },
  {
   "cell_type": "code",
   "execution_count": 6,
   "id": "7776ab91",
   "metadata": {},
   "outputs": [],
   "source": [
    "import re\n",
    "def find_corresponding_xml(path):\n",
    "    annotations_path = path + '\\Annotations'\n",
    "    images_path = path + '\\JPEGImages'\n",
    "    annotated_list = []\n",
    "    images_list = []\n",
    "    for file in os.listdir(annotations_path):\n",
    "        try: \n",
    "            annotated_list.append(int(file.split('.')[0]))\n",
    "        except ValueError:\n",
    "            annotated_list.append(int(re.findall(r'\\d+', file.split('.')[0])[0]))\n",
    "    for file in os.listdir(images_path):\n",
    "        if file.split('.')[1].lower() in ['jpg', 'jpeg', 'png']:\n",
    "            try:\n",
    "                images_list.append(int(file.split('.')[0]))\n",
    "            except ValueError:\n",
    "                images_list.append(int(re.findall(r'\\d+', file.split('.')[0])[0]))\n",
    "    if len(annotated_list) == len(images_list):\n",
    "        print(\"Equal number of files\")\n",
    "    annotated_list.sort()\n",
    "    images_list.sort()\n",
    "    for i in range(len(annotated_list)):\n",
    "        if annotated_list[i] != images_list[i]:\n",
    "            print(annotated_list[i])\n",
    "            print(images_list[i])\n",
    "            print(\"The annotated name and the image name doesn't match.\")\n",
    "            break\n",
    "    print(\"Everthing is fine, you need to rest.\")"
   ]
  },
  {
   "cell_type": "code",
   "execution_count": 9,
   "id": "fe01c8cb",
   "metadata": {},
   "outputs": [
    {
     "name": "stdout",
     "output_type": "stream",
     "text": [
      "Equal number of files\n",
      "Everthing is fine, you need to rest.\n"
     ]
    }
   ],
   "source": [
    "find_corresponding_xml(r'F:\\Minor Data Collection\\Final Image Data\\Monument Original\\validation')"
   ]
  },
  {
   "cell_type": "code",
   "execution_count": null,
   "id": "d0769a2b",
   "metadata": {},
   "outputs": [],
   "source": []
  }
 ],
 "metadata": {
  "kernelspec": {
   "display_name": "Python 3 (ipykernel)",
   "language": "python",
   "name": "python3"
  },
  "language_info": {
   "codemirror_mode": {
    "name": "ipython",
    "version": 3
   },
   "file_extension": ".py",
   "mimetype": "text/x-python",
   "name": "python",
   "nbconvert_exporter": "python",
   "pygments_lexer": "ipython3",
   "version": "3.9.12"
  },
  "vscode": {
   "interpreter": {
    "hash": "db7936f1c54eb8e542c27316bd257405a081f4ffea519a3ef0ab4d021852bca9"
   }
  }
 },
 "nbformat": 4,
 "nbformat_minor": 5
}
