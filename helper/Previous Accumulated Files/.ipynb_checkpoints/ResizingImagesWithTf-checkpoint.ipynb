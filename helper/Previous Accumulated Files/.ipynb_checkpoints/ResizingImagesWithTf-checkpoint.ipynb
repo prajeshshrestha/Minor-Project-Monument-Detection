{
 "cells": [
  {
   "cell_type": "code",
   "execution_count": 1,
   "id": "7e70510b",
   "metadata": {},
   "outputs": [],
   "source": [
    "import tensorflow as tf\n",
    "import os\n"
   ]
  },
  {
   "cell_type": "code",
   "execution_count": 2,
   "id": "7c4421b8",
   "metadata": {},
   "outputs": [],
   "source": [
    "def resize_image(input_path, output_path, size):\n",
    "    image = tf.io.read_file(input_path)\n",
    "    image = tf.image.decode_image(image, channels=3)\n",
    "    image = tf.image.resize(image, size,method='bilinear',antialias=True)\n",
    "    image = tf.image.encode_jpeg(image.numpy())\n",
    "    tf.io.write_file(output_path, image)"
   ]
  },
  {
   "cell_type": "code",
   "execution_count": 3,
   "id": "c805e2c6",
   "metadata": {},
   "outputs": [],
   "source": [
    "def batch_resize(input_dir, output_dir, size):\n",
    "    input_paths = [os.path.join(input_dir, f) for f in os.listdir(input_dir)]\n",
    "    output_paths = [os.path.join(output_dir, f) for f in os.listdir(input_dir)]\n",
    "\n",
    "    with tf.device('/GPU:0'):\n",
    "        for input_path, output_path in zip(input_paths, output_paths):\n",
    "            resize_image(input_path, output_path, size)"
   ]
  },
  {
   "cell_type": "code",
   "execution_count": 4,
   "id": "3ca865e4",
   "metadata": {},
   "outputs": [],
   "source": [
    "\n",
    "source_path = './Resize1'\n",
    "\n",
    "dest_path = source_path + '_resized_bilinear'\n",
    "os.mkdir(dest_path)"
   ]
  },
  {
   "cell_type": "code",
   "execution_count": 5,
   "id": "00830553",
   "metadata": {},
   "outputs": [
    {
     "name": "stdout",
     "output_type": "stream",
     "text": [
      "working on resizing Bhimeleshvara\n",
      "working on resizing Garud\n"
     ]
    }
   ],
   "source": [
    "for i in os.listdir(source_path):\n",
    "    print(f'working on resizing {i}')\n",
    "    source_path_inner = os.path.join(source_path,i)\n",
    "    dest_path_inner = os.path.join(dest_path,i)\n",
    "    os.mkdir(dest_path_inner)\n",
    "    batch_resize(source_path_inner,dest_path_inner,(300,300))"
   ]
  },
  {
   "cell_type": "code",
   "execution_count": null,
   "id": "fdb839fa",
   "metadata": {},
   "outputs": [],
   "source": [
    "2"
   ]
  }
 ],
 "metadata": {
  "kernelspec": {
   "display_name": "Python 3 (ipykernel)",
   "language": "python",
   "name": "python3"
  },
  "language_info": {
   "codemirror_mode": {
    "name": "ipython",
    "version": 3
   },
   "file_extension": ".py",
   "mimetype": "text/x-python",
   "name": "python",
   "nbconvert_exporter": "python",
   "pygments_lexer": "ipython3",
   "version": "3.9.15"
  }
 },
 "nbformat": 4,
 "nbformat_minor": 5
}
