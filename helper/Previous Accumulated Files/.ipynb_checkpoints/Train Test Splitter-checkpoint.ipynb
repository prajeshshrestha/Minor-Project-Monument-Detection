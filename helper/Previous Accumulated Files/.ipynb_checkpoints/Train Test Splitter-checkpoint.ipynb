{
 "cells": [
  {
   "cell_type": "markdown",
   "id": "2d72bd3f",
   "metadata": {},
   "source": [
    "## Lets, spilt the Annotations and JPEGImages"
   ]
  },
  {
   "cell_type": "code",
   "execution_count": 66,
   "id": "47f33223",
   "metadata": {},
   "outputs": [],
   "source": [
    "import os\n",
    "import random\n",
    "import math\n",
    "import shutil\n",
    "from tqdm import tqdm"
   ]
  },
  {
   "cell_type": "code",
   "execution_count": 69,
   "id": "9574a09f",
   "metadata": {
    "scrolled": false
   },
   "outputs": [],
   "source": [
    "def split_into_sets(path, train_split = 0.8, validation_split = 0.15, test_split = 0.05, shuffle_count = 10):\n",
    "    sub_folders = list()\n",
    "    for file in os.listdir(path):\n",
    "        sub_folders.append(path + \"\\\\\" + file)\n",
    "    filename_list = list()\n",
    "    for file in os.listdir(sub_folders[0]):\n",
    "        filename_list.append(file.split('.')[0])\n",
    "    for _ in range(shuffle_count):\n",
    "        random.shuffle(filename_list)\n",
    "\n",
    "    len_list = len(filename_list)\n",
    "\n",
    "    train_split = 0.8\n",
    "    validation_split = 0.15\n",
    "    test_split = 0.05\n",
    "\n",
    "    train_set = filename_list[:int(train_split * len_list)]\n",
    "    validation_set = filename_list[int(train_split * len_list):int((train_split + validation_split) * len_list)]\n",
    "    test_set =  filename_list[int((train_split + validation_split) * len_list):]\n",
    "\n",
    "    assert len(filename_list) == len(train_set) + len(validation_set) + len(test_set)\n",
    "\n",
    "    train_folder_path = path + '\\\\train'\n",
    "    validation_folder_path = path + '\\\\validation'\n",
    "    test_folder_path = path + '\\\\test'\n",
    "\n",
    "    if not os.path.exists(train_folder_path):\n",
    "        os.mkdir(train_folder_path)\n",
    "        os.mkdir(train_folder_path + '\\\\Annotations')\n",
    "        os.mkdir(train_folder_path + '\\\\JPEGImages')\n",
    "    if not os.path.exists(validation_folder_path):\n",
    "        os.mkdir(validation_folder_path)\n",
    "        os.mkdir(validation_folder_path + '\\\\Annotations')\n",
    "        os.mkdir(validation_folder_path + '\\\\JPEGImages')\n",
    "    if not os.path.exists(test_folder_path):\n",
    "        os.mkdir(test_folder_path)\n",
    "        os.mkdir(test_folder_path + '\\\\Annotations')\n",
    "        os.mkdir(test_folder_path + '\\\\JPEGImages')\n",
    "\n",
    "    split_dict = {\n",
    "        'train' : {\n",
    "            'annotate_path': train_folder_path + \"\\\\Annotations\\\\\",\n",
    "            'image_path': train_folder_path + \"\\\\JPEGImages\\\\\",\n",
    "            'set': train_set\n",
    "        },\n",
    "        'validation' : {\n",
    "            'annotate_path': validation_folder_path + \"\\\\Annotations\\\\\",\n",
    "            'image_path': validation_folder_path + \"\\\\JPEGImages\\\\\",\n",
    "            'set': validation_set\n",
    "        },\n",
    "        'test' : {\n",
    "            'annotate_path': test_folder_path + \"\\\\Annotations\\\\\",\n",
    "            'image_path': test_folder_path + \"\\\\JPEGImages\\\\\",\n",
    "            'set': test_set\n",
    "        }\n",
    "    }\n",
    "    base_annotation_path = path + \"\\\\Annotations\\\\\"\n",
    "    base_image_path = path + \"\\\\JPEGImages\\\\\"\n",
    "    for _, split_value in split_dict.items():\n",
    "        for file in tqdm(split_value['set']):\n",
    "            src_XML = base_annotation_path + file +'.xml'\n",
    "            src_JPG = base_image_path + file + '.jpg'\n",
    "            dst_XML = split_value['annotate_path'] + file + '.xml'\n",
    "            dst_JPG = split_value['image_path'] + file + '.jpg'\n",
    "            shutil.copy(src_XML, dst_XML)\n",
    "            shutil.copy(src_JPG, dst_JPG)"
   ]
  },
  {
   "cell_type": "code",
   "execution_count": null,
   "id": "8c71a162",
   "metadata": {},
   "outputs": [],
   "source": [
    "MONUMENT_ORIGINAL_PATH = r'F:\\Minor Data Collection\\Final Image Data\\Monument Original'\n",
    "split_into_sets(MONUMENT_ORIGINAL_PATH, 0.8, 0.15, 0.05, 20)"
   ]
  }
 ],
 "metadata": {
  "kernelspec": {
   "display_name": "Python 3 (ipykernel)",
   "language": "python",
   "name": "python3"
  },
  "language_info": {
   "codemirror_mode": {
    "name": "ipython",
    "version": 3
   },
   "file_extension": ".py",
   "mimetype": "text/x-python",
   "name": "python",
   "nbconvert_exporter": "python",
   "pygments_lexer": "ipython3",
   "version": "3.9.12"
  }
 },
 "nbformat": 4,
 "nbformat_minor": 5
}
