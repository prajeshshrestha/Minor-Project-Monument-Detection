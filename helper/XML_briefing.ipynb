{
 "cells": [
  {
   "cell_type": "code",
   "execution_count": 6,
   "id": "b8717eea",
   "metadata": {},
   "outputs": [],
   "source": [
    "import glob\n",
    "import xml.etree.ElementTree as ET\n",
    "import pandas as pd\n",
    "import sys\n",
    "import os"
   ]
  },
  {
   "cell_type": "code",
   "execution_count": 2,
   "id": "f05e7239",
   "metadata": {},
   "outputs": [],
   "source": [
    "def xml_to_df(path):\n",
    "    xml_list = []\n",
    "    for xml_file in glob.glob(path + '/*.xml'):\n",
    "        tree = ET.parse(xml_file)\n",
    "        root = tree.getroot()\n",
    "        for member in root.findall('object'):\n",
    "            value = (root.find('filename').text,\n",
    "                     int(root.find('size')[0].text),\n",
    "                     int(root.find('size')[1].text),\n",
    "                     member[0].text,\n",
    "                     int(member[4][0].text),\n",
    "                     int(member[4][1].text),\n",
    "                     int(member[4][2].text),\n",
    "                     int(member[4][3].text)\n",
    "                     )\n",
    "            xml_list.append(value)\n",
    "    column_name = ['filename', 'width', 'height',\n",
    "                   'class', 'xmin', 'ymin', 'xmax', 'ymax']\n",
    "    xml_df = pd.DataFrame(xml_list, columns=column_name)\n",
    "    return xml_df"
   ]
  },
  {
   "cell_type": "code",
   "execution_count": 3,
   "id": "81d7d437",
   "metadata": {},
   "outputs": [],
   "source": [
    "def main(path):\n",
    "    dataframe = xml_to_df(f'{path}')\n",
    "    new_dataframe = dataframe.groupby(['class']).count()\n",
    "#     new_dataframe[[\"filename\"]].to_csv(\"2-all.csv\")\n",
    "    print(new_dataframe)"
   ]
  },
  {
   "cell_type": "code",
   "execution_count": 17,
   "id": "dc5c4a1d",
   "metadata": {},
   "outputs": [
    {
     "name": "stdout",
     "output_type": "stream",
     "text": [
      "Empty DataFrame\n",
      "Columns: [filename, width, height, xmin, ymin, xmax, ymax]\n",
      "Index: []\n"
     ]
    }
   ],
   "source": [
    "main(\"F:\\Minor Data Collection\\All Images_resized_bilinear\\2\\2-Frame\")"
   ]
  },
  {
   "cell_type": "code",
   "execution_count": 7,
   "id": "b45eaa72",
   "metadata": {},
   "outputs": [],
   "source": [
    "import re\n",
    "def find_corresponding_xml(path):\n",
    "    annotations_path = path + '\\Annotations'\n",
    "    images_path = path + '\\JPEGImages'\n",
    "    annotated_list = []\n",
    "    images_list = []\n",
    "    for file in os.listdir(annotations_path):\n",
    "        try: \n",
    "            annotated_list.append(int(file.split('.')[0]))\n",
    "        except ValueError:\n",
    "            annotated_list.append(int(re.findall(r'\\d+', file.split('.')[0])[0]))\n",
    "    for file in os.listdir(images_path):\n",
    "        if file.split('.')[1].lower() in ['jpg', 'jpeg', 'png']:\n",
    "            try:\n",
    "                images_list.append(int(file.split('.')[0]))\n",
    "            except ValueError:\n",
    "                images_list.append(int(re.findall(r'\\d+', file.split('.')[0])[0]))\n",
    "    if len(annotated_list) == len(images_list):\n",
    "        print(\"Equal number of files\")\n",
    "    annotated_list.sort()\n",
    "    images_list.sort()\n",
    "    for i in range(len(annotated_list)):\n",
    "        if annotated_list[i] != images_list[i]:\n",
    "            print(annotated_list[i])\n",
    "            print(images_list[i])\n",
    "            print(\"The annotated name and the image name doesn't match.\")\n",
    "            break\n",
    "    print(\"Everthing is fine, you need to rest.\")"
   ]
  },
  {
   "cell_type": "code",
   "execution_count": 9,
   "id": "bb639ab0",
   "metadata": {},
   "outputs": [
    {
     "name": "stdout",
     "output_type": "stream",
     "text": [
      "Equal number of files\n",
      "Everthing is fine, you need to rest.\n"
     ]
    }
   ],
   "source": [
    "find_corresponding_xml(r\"F:\\Minor Data Collection\\Resized Images and Annotations\\Annotations\\Rishav\\captured\")"
   ]
  },
  {
   "cell_type": "code",
   "execution_count": 10,
   "id": "d8e9547d",
   "metadata": {},
   "outputs": [],
   "source": [
    "def find_spefic(path):\n",
    "    for xml_file in glob.glob(path + '/*.xml'):\n",
    "        tree = ET.parse(xml_file)\n",
    "        root = tree.getroot()\n",
    "        for member in root.findall('object'):\n",
    "            if member[0].text == 'basantapur towerw':\n",
    "                print(root.find('filename').text)"
   ]
  },
  {
   "cell_type": "code",
   "execution_count": 11,
   "id": "7a317ee8",
   "metadata": {},
   "outputs": [
    {
     "name": "stdout",
     "output_type": "stream",
     "text": [
      "ris (149).jpg\n"
     ]
    }
   ],
   "source": [
    "find_spefic(r\"F:\\Minor Data Collection\\Resized Images and Annotations\\Annotations\\Rishav\\captured\\Annotations\")"
   ]
  },
  {
   "cell_type": "code",
   "execution_count": null,
   "id": "d6473598",
   "metadata": {},
   "outputs": [],
   "source": []
  }
 ],
 "metadata": {
  "kernelspec": {
   "display_name": "Python 3 (ipykernel)",
   "language": "python",
   "name": "python3"
  },
  "language_info": {
   "codemirror_mode": {
    "name": "ipython",
    "version": 3
   },
   "file_extension": ".py",
   "mimetype": "text/x-python",
   "name": "python",
   "nbconvert_exporter": "python",
   "pygments_lexer": "ipython3",
   "version": "3.9.12"
  },
  "vscode": {
   "interpreter": {
    "hash": "db7936f1c54eb8e542c27316bd257405a081f4ffea519a3ef0ab4d021852bca9"
   }
  }
 },
 "nbformat": 4,
 "nbformat_minor": 5
}
