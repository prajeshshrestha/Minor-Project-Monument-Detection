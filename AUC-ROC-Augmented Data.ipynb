{
 "cells": [
  {
   "cell_type": "code",
   "execution_count": 36,
   "id": "1bd032bb",
   "metadata": {},
   "outputs": [],
   "source": [
    "import tensorflow as tf\n",
    "from utils import bbox_utils, data_utils, drawing_utils, io_utils, train_utils, eval_utils\n",
    "from models.decoder import get_decoder_model\n",
    "from helper import label_generator\n",
    "from models.ssd_mobilenet_v2 import get_model, init_model\n",
    "import os\n",
    "from PIL import Image\n",
    "import numpy as np\n",
    "import cv2\n",
    "import matplotlib.pyplot as plt\n",
    "import pandas as pd\n",
    "from pprint import pprint"
   ]
  },
  {
   "cell_type": "code",
   "execution_count": 37,
   "id": "708ea2b7",
   "metadata": {},
   "outputs": [],
   "source": [
    "batch_size = 8\n",
    "evaluate = False\n",
    "backbone = 'mobilenet_v2'\n",
    "\n",
    "hyper_params = train_utils.get_hyper_params(backbone)"
   ]
  },
  {
   "cell_type": "code",
   "execution_count": 38,
   "id": "0b0e5a69",
   "metadata": {},
   "outputs": [],
   "source": [
    "image_feature_description = {\n",
    "    'image/height': tf.io.FixedLenFeature(shape = (), dtype = np.int64),\n",
    "    'image/width' : tf.io.FixedLenFeature(shape = (), dtype = np.int64),\n",
    "    'image/filename' : tf.io.FixedLenFeature(shape = (), dtype = tf.string),\n",
    "    'image/encoded' : tf.io.FixedLenFeature(shape = (), dtype = tf.string),\n",
    "    'image/object/bbox/xmin': tf.io.FixedLenSequenceFeature(shape = (), dtype = np.float32, allow_missing = True),\n",
    "    'image/object/bbox/xmax': tf.io.FixedLenSequenceFeature(shape = (), dtype = np.float32, allow_missing = True),\n",
    "    'image/object/bbox/ymin': tf.io.FixedLenSequenceFeature(shape = (), dtype = np.float32, allow_missing = True),\n",
    "    'image/object/bbox/ymax': tf.io.FixedLenSequenceFeature(shape = (), dtype = np.float32, allow_missing = True),\n",
    "    'image/object/class/text':tf.io.FixedLenSequenceFeature(shape = (), dtype = tf.string, allow_missing = True),\n",
    "    'image/object/class/label':tf.io.FixedLenSequenceFeature(shape = (), dtype = np.int64, allow_missing = True)\n",
    "}\n",
    "\n",
    "def _parse_data(unparsed_example):\n",
    "    return tf.io.parse_single_example(unparsed_example, image_feature_description)\n",
    "\n",
    "def _bytestring(parsed_example):\n",
    "    byte_string = parsed_example['image/encoded']\n",
    "    image = tf.io.decode_image(byte_string)\n",
    "    image = tf.reshape(image, [300, 300, 3])\n",
    "    parsed_example['image/encoded'] = image\n",
    "    bbox = tf.stack([parsed_example['image/object/bbox/ymin'], parsed_example['image/object/bbox/xmin'], parsed_example['image/object/bbox/ymax'], parsed_example['image/object/bbox/xmax']], axis = -1)\n",
    "    output_dict = {'image': image,\n",
    "                  'objects': {\n",
    "                      'bbox': bbox,\n",
    "                      'label':parsed_example['image/object/class/label']\n",
    "                  }}\n",
    "\n",
    "    return output_dict\n",
    "\n",
    "def get_dataset(path):\n",
    "    dataset = tf.data.TFRecordDataset(path)\n",
    "    dataset = dataset.map(_parse_data)\n",
    "    dataset = dataset.map(_bytestring)\n",
    "    size_info = dataset.reduce(0, lambda x, _ : x + 1).numpy()\n",
    "    return dataset, size_info"
   ]
  },
  {
   "cell_type": "code",
   "execution_count": 39,
   "id": "a0890c9c",
   "metadata": {},
   "outputs": [],
   "source": [
    "test_data, size_info = get_dataset(r\"F:\\Minor Data Collection\\Final Image Data\\Monument Original\\Merged_Original_Augmented\\test_aug.tfrecord\")\n",
    "total_items = size_info"
   ]
  },
  {
   "cell_type": "code",
   "execution_count": 40,
   "id": "42d97f24",
   "metadata": {},
   "outputs": [],
   "source": [
    "labels = ['bg', 'badrinath temple', 'basantapur tower', 'bhagavati temple', 'bhairavnath temple', 'bhaktapur tower', 'bhimeleshvara', 'bhimsen temple', 'bhupatindra malla column', 'bhuvana lakshmeshvara', 'chasin dega', 'chayasilin mandap', 'dattatreya temple', 'degu tale temple_KDS', 'fasidega temple', 'gaddi durbar', 'garud', 'golden gate', 'gopinath krishna temple', 'hanuman idol', 'indrapura', 'jagannatha temple', 'kala-bhairava', 'kasthamandap', 'kavindrapura sattal', 'kedamatha tirtha', 'kirtipur tower', 'kumari ghar', 'lalitpur tower', 'mahadev temple', 'narayan temple', 'national gallery', 'nyatapola temple', 'palace of the 55 windows', 'panchamukhi hanuman', 'pratap malla column', 'shiva temple', 'shveta bhairava', 'siddhi lakshmi temple', 'simha sattal', 'taleju bell_BDS', 'taleju bell_KDS', 'taleju temple', 'trailokya mohan', 'vastala temple', 'vishnu temple']\n",
    "hyper_params[\"total_labels\"] = len(labels)\n",
    "img_size = hyper_params[\"img_size\"]"
   ]
  },
  {
   "cell_type": "code",
   "execution_count": 41,
   "id": "402c2879",
   "metadata": {},
   "outputs": [],
   "source": [
    "data_types = data_utils.get_data_types()\n",
    "data_shapes = data_utils.get_data_shapes()\n",
    "padding_values = data_utils.get_padding_values()\n",
    "\n",
    "test_data = test_data.map(lambda x : data_utils.preprocessing(x, img_size, img_size))\n",
    "test_data = test_data.padded_batch(batch_size, padded_shapes=data_shapes, padding_values=padding_values)"
   ]
  },
  {
   "cell_type": "code",
   "execution_count": 42,
   "id": "7427be20",
   "metadata": {},
   "outputs": [
    {
     "name": "stdout",
     "output_type": "stream",
     "text": [
      "WARNING:tensorflow:`input_shape` is undefined or non-square, or `rows` is not in [96, 128, 160, 192, 224]. Weights for input shape (224, 224) will be loaded as the default.\n"
     ]
    }
   ],
   "source": [
    "ssd_model = get_model(hyper_params)\n",
    "ssd_model_path = io_utils.get_model_path(backbone)\n",
    "ssd_model.load_weights(\"./trained/ssd_mobilenet_v2_model_weights_150_epch 1e-3 and 1e-4.h5\")\n",
    "prior_boxes = bbox_utils.generate_prior_boxes(hyper_params[\"feature_map_shapes\"], hyper_params[\"aspect_ratios\"])\n",
    "ssd_decoder_model = get_decoder_model(ssd_model, prior_boxes, hyper_params)"
   ]
  },
  {
   "cell_type": "code",
   "execution_count": 43,
   "id": "eee8a883",
   "metadata": {},
   "outputs": [
    {
     "name": "stdout",
     "output_type": "stream",
     "text": [
      "261/261 [==============================] - 135s 511ms/step\n"
     ]
    }
   ],
   "source": [
    "step_size = train_utils.get_step_size(total_items, batch_size)\n",
    "pred_bboxes, pred_labels, pred_scores = ssd_decoder_model.predict(test_data, steps=step_size, verbose=1)"
   ]
  },
  {
   "cell_type": "code",
   "execution_count": 44,
   "id": "af3a434b",
   "metadata": {},
   "outputs": [],
   "source": [
    "test_data, size_info = get_dataset(r\"F:\\Minor Data Collection\\Final Image Data\\Monument Original\\Merged_Original_Augmented\\test_aug.tfrecord\")\n",
    "test_data = test_data.map(lambda x : data_utils.preprocessing(x, img_size, img_size))"
   ]
  },
  {
   "cell_type": "code",
   "execution_count": 45,
   "id": "d8f19788",
   "metadata": {},
   "outputs": [],
   "source": [
    "def IOU_score(pred_bbox, gt_bbox, width = 300, height = 300):\n",
    "    p_y1, p_x1, p_y2, p_x2 = pred_bbox\n",
    "    gt_y1, gt_x1, gt_y2, gt_x2 = gt_bbox\n",
    "\n",
    "    p_y1, p_x1, p_y2, p_x2 = int(p_y1 * height), int(p_x1 * width), int(p_y2 * height), int(p_x2 * width)\n",
    "    gt_y1, gt_x1, gt_y2, gt_x2 = int(gt_y1 * height), int(gt_x1 * width), int(gt_y2 * height), int(gt_x2 * width)\n",
    "    \n",
    "    area_pbox = (p_x2 - p_x1) * (p_y2 - p_y1)\n",
    "    area_gtbox = (gt_x2 - gt_x1) * (gt_y2 - gt_y1)\n",
    "\n",
    "    xx = max(p_x1, gt_x1)\n",
    "    yy = max(p_y1, gt_y1)\n",
    "    aa = min(p_x2, gt_x2)\n",
    "    bb = min(p_y2, gt_y2)\n",
    "\n",
    "    w = max(0, aa - xx)\n",
    "    h = max(0, bb - yy)\n",
    "\n",
    "    intersection_area = w * h\n",
    "\n",
    "    if intersection_area == 0:\n",
    "        return 0\n",
    "    union_area = area_pbox + area_gtbox - intersection_area\n",
    "    return float(intersection_area) / float(union_area)"
   ]
  },
  {
   "cell_type": "code",
   "execution_count": 54,
   "id": "c141a4c0",
   "metadata": {},
   "outputs": [],
   "source": [
    "gt_ROIs = 0\n",
    "image_no = 0\n",
    "iou_threshold = 0.5\n",
    "data_list = []\n",
    "for index, ele in enumerate(test_data):\n",
    "    gt_ind_ROI = 0\n",
    "    image_name = 'Image' + str(image_no)\n",
    "    bounding_boxes = ele[1].numpy()\n",
    "    class_labels = ele[2].numpy()\n",
    "    \n",
    "    predicted_pred_bboxes = pred_bboxes[index]\n",
    "    pred_class_labels = pred_labels[index]\n",
    "    pred_conf_scores = pred_scores[index]\n",
    "    \n",
    "    for _ in class_labels:\n",
    "        gt_ind_ROI += 1\n",
    "    gt_ROIs += gt_ind_ROI  \n",
    "    \n",
    "    detected_count = 0\n",
    "    for bbox in predicted_pred_bboxes:\n",
    "        if bbox[0] > 0 or bbox[1] > 0 or bbox[2] > 0 or bbox[3] > 0:\n",
    "            detected_count += 1\n",
    "        else:\n",
    "            break\n",
    "    \n",
    "    # Caculating TP, FP, TN\n",
    "    \n",
    "#     for i in range(detected_count):\n",
    "#         tp = 0\n",
    "#         fp = 0\n",
    "#         tn = 0\n",
    "        \n",
    "#         # calculating TP and FP\n",
    "#         if pred_class_labels[i] in class_labels:\n",
    "#             class_label_index = class_labels.tolist().index(pred_class_labels[i])\n",
    "#             if IOU_score(predicted_pred_bboxes[i], bounding_boxes[class_label_index]) > iou_threshold:\n",
    "#                 tp = 1\n",
    "#             else:\n",
    "#                 fp = 1 \n",
    "#         else:\n",
    "#             fp = 1\n",
    "\n",
    "    for i in range(detected_count):\n",
    "        tp = 0\n",
    "        fp = 0\n",
    "        tn = 0\n",
    "        \n",
    "        for j, bbox in enumerate(bounding_boxes):\n",
    "            if IOU_score(predicted_pred_bboxes[i], bbox) > 0.5:\n",
    "                if pred_class_labels[i] == class_labels[j]:\n",
    "                    tp = 1\n",
    "                else:\n",
    "                    fp = 1\n",
    "                break\n",
    "         \n",
    "            \n",
    "        # Calculate TN\n",
    "        for j in range(detected_count):\n",
    "            if j != i:\n",
    "#                 if pred_class_labels[j] in class_labels:\n",
    "#                     class_label_index = class_labels.tolist().index(pred_class_labels[j])\n",
    "#                     if IOU_score(predicted_pred_bboxes[j], bounding_boxes[class_label_index]) > iou_threshold:\n",
    "#                         tn += 1\n",
    "                for k, bbox_ in enumerate(bounding_boxes):\n",
    "                    if IOU_score(predicted_pred_bboxes[j], bbox_) > iou_threshold:\n",
    "                        tn += 1\n",
    "        data_list.append((image_name, labels[int(pred_class_labels[i])], pred_conf_scores[i] * 100, tp, fp, tn))\n",
    "    \n",
    "    image_no += 1\n",
    "\n",
    "column_name = ['Image', 'Detection', 'Confidence', 'TP', 'FP', 'TN']    \n",
    "df = pd.DataFrame(data_list, columns = column_name)\n",
    "df.sort_values(['Confidence'], inplace = True, ignore_index = True, ascending = False)\n",
    "df.head(20)\n",
    "\n",
    "new_data_list = list()\n",
    "accumulated_TP = 0\n",
    "accumulated_FP = 0\n",
    "accumulated_TN = 0\n",
    "\n",
    "for row in df.iterrows():\n",
    "    accumulated_TP += row[1]['TP']\n",
    "    accumulated_FP += row[1]['FP']\n",
    "    accumulated_TN += row[1]['TN']\n",
    "    \n",
    "    recall = float(accumulated_TP) / gt_ROIs\n",
    "    try:\n",
    "        specificity = float(accumulated_TN) / (float(accumulated_TN) + float(accumulated_FP))\n",
    "    except ZeroDivisionError:\n",
    "        specificity = 0.0\n",
    "    FPR = 1 - specificity\n",
    "    \n",
    "    if FPR < 0.09:\n",
    "        new_data_list.append((row[1]['Image'], row[1]['Detection'], row[1]['Confidence'], row[1]['TP'], row[1]['FP'], row[1]['TN'], accumulated_TP, accumulated_FP, accumulated_TN, recall, specificity, FPR))\n",
    "\n",
    "column_name = ['Image', 'Detection', 'Confidence', \"TP\", \"FP\", 'TN', 'Acc TP', 'Acc FP', 'Acc TN', 'Recall', 'Specificity', 'FPR']\n",
    "new_df = pd.DataFrame(new_data_list, columns = column_name)\n"
   ]
  },
  {
   "cell_type": "code",
   "execution_count": 56,
   "id": "14b91e9f",
   "metadata": {
    "scrolled": true
   },
   "outputs": [
    {
     "data": {
      "image/png": "[encoded data removed]",
      "text/plain": [
       "<Figure size 720x450 with 1 Axes>"
      ]
     },
     "metadata": {},
     "output_type": "display_data"
    }
   ],
   "source": [
    "plt.figure(figsize = (8, 5), dpi = 90)\n",
    "plt.plot(new_df['FPR'], new_df['Recall'])\n",
    "plt.title('AUC-ROC Curve')\n",
    "plt.xlabel('False Positive Rate (1 - Specificity)')\n",
    "plt.ylabel('Sensitivity (Recall)')\n",
    "plt.show()"
   ]
  },
  {
   "cell_type": "code",
   "execution_count": null,
   "id": "647570d3",
   "metadata": {},
   "outputs": [],
   "source": [
    "from sklearn.metrics import auc\n",
    "\n",
    "compare_list = np.arange(0.00, 0.20, 0.0022).tolist()\n",
    "print(compare_list)\n",
    "\n",
    "curr_ind = 0\n",
    "recall_list = list()\n",
    "fpr_list = list()\n",
    "\n",
    "for ind, fpr in enumerate(new_df['FPR']):\n",
    "    if fpr >= compare_list[curr_ind]:\n",
    "        fpr_list.append(fpr)\n",
    "        recall_list.append(new_df['Recall'].tolist()[ind])\n",
    "        curr_ind += 1\n",
    "        \n",
    "print(\"Area under the Curve - ROC: \", auc(fpr_list, recall_list))\n",
    "\n",
    "plt.figure(figsize = (8, 6), dpi = 90)\n",
    "plt.plot(fpr_list, recall_list)\n",
    "\n",
    "plt.title(\"Approximated AUC-ROC Curve (for AUC calculation)\")\n",
    "plt.xlabel('False Positive Rate (1 - Specificity)')\n",
    "plt.ylabel('Sensitivity (Recall)')\n",
    "plt.show()"
   ]
  },
  {
   "cell_type": "code",
   "execution_count": 48,
   "id": "3a118e92",
   "metadata": {},
   "outputs": [],
   "source": [
    "class_len = len(labels)\n",
    "cm_matrix = np.zeros(shape = (class_len, class_len))"
   ]
  },
  {
   "cell_type": "code",
   "execution_count": 49,
   "id": "9bc7c4d2",
   "metadata": {},
   "outputs": [],
   "source": [
    "for index, ele in enumerate(test_data):\n",
    "    bounding_boxes = ele[1].numpy()\n",
    "    class_labels = ele[2].numpy()\n",
    "\n",
    "    predicted_pred_bboxes = pred_bboxes[index]\n",
    "    pred_class_labels = pred_labels[index]\n",
    "    pred_conf_scores = pred_scores[index]\n",
    "    \n",
    "    detected_count = 0\n",
    "    for bbox in predicted_pred_bboxes:\n",
    "        if bbox[0] > 0 or bbox[1] > 0 or bbox[2] > 0 or bbox[3] > 0:\n",
    "            detected_count += 1\n",
    "        else:\n",
    "            break\n",
    "            \n",
    "    for i in range(detected_count):\n",
    "        for j, bbox in enumerate(bounding_boxes):\n",
    "            if IOU_score(predicted_pred_bboxes[i], bbox) > 0.5:\n",
    "                cm_matrix[int(pred_class_labels[i])][int(class_labels[j])] += 1.0\n",
    "                break\n",
    "            else:\n",
    "                cm_matrix[int(pred_class_labels[i])][int(class_labels[j])] += 1.0\n",
    "            "
   ]
  },
  {
   "cell_type": "code",
   "execution_count": null,
   "id": "ba1958ca",
   "metadata": {},
   "outputs": [],
   "source": [
    "import seaborn as sns\n",
    "plt.figure(figsize = (10, 8), dpi = 360)\n",
    "sns.set(font_scale = 0.5)\n",
    "ax = sns.heatmap(cm_matrix, annot=False, cmap = 'Blues', cbar = True, robust = True)\n",
    "\n",
    "ax.set_xlabel(\"Predicted Classes\", fontsize=14, labelpad=20)\n",
    "# ax.xaxis.set_ticklabels(['Negative', 'Positive'])\n",
    "\n",
    "ax.set_ylabel(\"Actual Classes\", fontsize=14, labelpad=20)\n",
    "plt.savefig(\"augmented-confusion_matrix.jpg\", dpi = 240, bbox_inches = 'tight', pad_inches = 0.2)\n",
    "# ax.yaxis.set_ticklabels(['Negative', 'Positive'])\n",
    "plt.show()"
   ]
  },
  {
   "cell_type": "code",
   "execution_count": null,
   "id": "a224a329",
   "metadata": {},
   "outputs": [],
   "source": []
  }
 ],
 "metadata": {
  "kernelspec": {
   "display_name": "Python 3 (ipykernel)",
   "language": "python",
   "name": "python3"
  },
  "language_info": {
   "codemirror_mode": {
    "name": "ipython",
    "version": 3
   },
   "file_extension": ".py",
   "mimetype": "text/x-python",
   "name": "python",
   "nbconvert_exporter": "python",
   "pygments_lexer": "ipython3",
   "version": "3.9.12"
  }
 },
 "nbformat": 4,
 "nbformat_minor": 5
}
